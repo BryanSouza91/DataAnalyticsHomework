{
 "cells": [
  {
   "cell_type": "code",
   "execution_count": 1,
   "metadata": {},
   "outputs": [],
   "source": [
    "# Dependencies\n",
    "import csv\n",
    "import os"
   ]
  },
  {
   "cell_type": "code",
   "execution_count": 2,
   "metadata": {},
   "outputs": [],
   "source": [
    "# define path to csv \n",
    "csvpath = os.path.join(\"Resources\", \"election_data.csv\") "
   ]
  },
  {
   "cell_type": "code",
   "execution_count": 17,
   "metadata": {},
   "outputs": [],
   "source": [
    "# Define variables\n",
    "tot_votes = 0\n",
    "# List to store unique voter ids\n",
    "voters = []\n",
    "# List to store unique candidates\n",
    "candidates = []\n",
    "# List to store votes per candidate \n",
    "votes_by_cand = []\n",
    "# List to store calc. % votes per candidate\n",
    "perc_votes = []\n",
    "# Store winner name\n",
    "winner = \"\"\n",
    "# store votes while counting for each candidate\n",
    "votes = 0"
   ]
  },
  {
   "cell_type": "code",
   "execution_count": null,
   "metadata": {},
   "outputs": [],
   "source": [
    "# Read csv file\n",
    "with open(csvpath, 'r') as csvfile:\n",
    "    #split data\n",
    "    csvreader = csv.reader(csvfile, delimiter=',')\n",
    "    # Make list of lists for rows in csv\n",
    "    data = [row for row in csvreader]\n",
    "    for list in data:\n",
    "        del list[1]\n",
    "    for i in range(1,len(data)):\n",
    "        \n",
    "        #data[i][0] = int(data[i][0])\n",
    "\n",
    "        if data[i][0] not in voters:\n",
    "            #voters.append(data[i][0]) \n",
    "            tot_votes += 1"
   ]
  },
  {
   "cell_type": "code",
   "execution_count": null,
   "metadata": {},
   "outputs": [],
   "source": [
    "tot_votes"
   ]
  },
  {
   "cell_type": "code",
   "execution_count": null,
   "metadata": {},
   "outputs": [],
   "source": []
  }
 ],
 "metadata": {
  "kernelspec": {
   "display_name": "Python 3",
   "language": "python",
   "name": "python3"
  },
  "language_info": {
   "codemirror_mode": {
    "name": "ipython",
    "version": 3
   },
   "file_extension": ".py",
   "mimetype": "text/x-python",
   "name": "python",
   "nbconvert_exporter": "python",
   "pygments_lexer": "ipython3",
   "version": "3.7.4"
  }
 },
 "nbformat": 4,
 "nbformat_minor": 2
}
